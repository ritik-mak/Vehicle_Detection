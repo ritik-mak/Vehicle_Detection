{
 "cells": [
  {
   "cell_type": "code",
   "execution_count": null,
   "id": "08c5135f",
   "metadata": {
    "vscode": {
     "languageId": "plaintext"
    }
   },
   "outputs": [],
   "source": [
    "%pip install ultralytics\n",
    "import ultralytics\n"
   ]
  },
  {
   "cell_type": "code",
   "execution_count": null,
   "id": "8e6ec0da",
   "metadata": {
    "vscode": {
     "languageId": "plaintext"
    }
   },
   "outputs": [],
   "source": [
    "\n",
    "\n",
    "model = YOLO(\"C:\\Users\\ritik\\Desktop\\PROJECT\\yolov11x.pt\")  # Using YOLOv11 Medium model\n",
    "\n",
    "model.train(\n",
    "    data=\"C:\\Users\\ritik\\Desktop\\PROJECT\\dataset_custom_TPP.yaml\",  # path to YAML file\n",
    "    epochs=50,\n",
    "    imgsz=640,\n",
    "    batch=8,  # Adjust if you get memory issues\n",
    "    name=\"car_TPP_yolov11x\"\n",
    ")\n"
   ]
  },
  {
   "cell_type": "code",
   "execution_count": null,
   "id": "8d606a62",
   "metadata": {
    "vscode": {
     "languageId": "plaintext"
    }
   },
   "outputs": [],
   "source": [
    "\n",
    "input_file = \"input_file.mp4\""
   ]
  },
  {
   "cell_type": "code",
   "execution_count": null,
   "id": "90ca74ae",
   "metadata": {
    "vscode": {
     "languageId": "plaintext"
    }
   },
   "outputs": [],
   "source": [
    "\n",
    "model_best = YOLO(\"C:\\Users\\Desktop\\PROJECT\\runs\\detect\\car_TPP_yolov11x\\weights\\model_best.pt\")\n",
    "\n",
    "cap = cv2.VideoCapture(input_file)\n",
    "frame_count = 0  # Initialize frame counter\n",
    "\n",
    "while cap.isOpened():\n",
    "    ret, frame = cap.read()\n",
    "    if not ret:\n",
    "        break\n",
    "\n",
    "    frame_count += 1\n",
    "\n",
    "    if frame_count % 5 == 0:  #\n",
    "        results = model_best(frame)\n",
    "        output_frame = results[0].plot()\n",
    "\n",
    "        cv2_imshow(output_frame)\n",
    "        if cv2.waitKey(1) & 0xFF == ord('q'):\n",
    "            break\n",
    "\n",
    "cap.release()\n",
    "cv2.destroyAllWindows()"
   ]
  }
 ],
 "metadata": {
  "language_info": {
   "name": "python"
  }
 },
 "nbformat": 4,
 "nbformat_minor": 5
}
